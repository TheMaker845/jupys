{
 "cells": [
  {
   "cell_type": "code",
   "execution_count": 61,
   "metadata": {},
   "outputs": [],
   "source": [
    "from gravipy.tensorial import * # import GraviPy package\n",
    "from sympy import init_printing\n",
    "import inspect\n",
    "import sympy as sp\n",
    "init_printing()"
   ]
  },
  {
   "cell_type": "code",
   "execution_count": 41,
   "metadata": {},
   "outputs": [
    {
     "data": {
      "image/png": "[encoded data removed]",
      "text/latex": [
       "$\\displaystyle \\left[\\begin{matrix}- \\sigma{\\left(t,x,y,z \\right)} & 0 & 0 & 0\\\\0 & \\sigma{\\left(t,x,y,z \\right)} & 0 & 0\\\\0 & 0 & \\sigma{\\left(t,x,y,z \\right)} & 0\\\\0 & 0 & 0 & \\sigma{\\left(t,x,y,z \\right)}\\end{matrix}\\right]$"
      ],
      "text/plain": [
       "⎡-σ(t, x, y, z)        0              0              0      ⎤\n",
       "⎢                                                           ⎥\n",
       "⎢      0         σ(t, x, y, z)        0              0      ⎥\n",
       "⎢                                                           ⎥\n",
       "⎢      0               0        σ(t, x, y, z)        0      ⎥\n",
       "⎢                                                           ⎥\n",
       "⎣      0               0              0        σ(t, x, y, z)⎦"
      ]
     },
     "execution_count": 41,
     "metadata": {},
     "output_type": "execute_result"
    }
   ],
   "source": [
    "h, tau = symbols('h tau')\n",
    "t, x, y, z = symbols('t x y z')\n",
    "sig = sp.Function('sigma')(t,x,y,z)\n",
    "metric = diag(-sig, sig, sig, sig)\n",
    "X = Coordinates('x', [t, x, y, z])\n",
    "g = MetricTensor('g', X, metric)\n",
    "g(All, All)"
   ]
  },
  {
   "cell_type": "code",
   "execution_count": 44,
   "metadata": {},
   "outputs": [
    {
     "data": {
      "text/plain": [
       "<gravipy.tensorial.Christoffel at 0x1f340eb63d0>"
      ]
     },
     "execution_count": 44,
     "metadata": {},
     "output_type": "execute_result"
    }
   ],
   "source": [
    "Ch = Christoffel('Ch', g)"
   ]
  },
  {
   "cell_type": "code",
   "execution_count": 56,
   "metadata": {},
   "outputs": [],
   "source": [
    "Rm = Riemann('Rm', g)\n",
    "Ri = Ricci('Ri', g)\n",
    "Ric_s = Ri.scalar()"
   ]
  },
  {
   "cell_type": "code",
   "execution_count": 59,
   "metadata": {},
   "outputs": [],
   "source": [
    "mu, nu, rho, sigma = symbols('mu, nu, rho, sigma')"
   ]
  },
  {
   "cell_type": "code",
   "execution_count": 88,
   "metadata": {},
   "outputs": [],
   "source": [
    "def Weyl(mu, nu, rho, sigma):\n",
    "    C = Rm(mu, nu, rho, sigma) + (Ric_s/(6)) * (g(mu, rho) * g(nu, sigma) - g(mu, sigma) * g(nu, rho))\n",
    "    C += (1/2) * (g(mu, sigma) * Ri(nu, rho) - g(mu, rho) * Ri(nu, sigma) + Ri(mu, sigma)* g(nu, rho) - Ri(mu, rho)*g(nu, sigma))\n",
    "    return C"
   ]
  },
  {
   "cell_type": "code",
   "execution_count": 98,
   "metadata": {},
   "outputs": [
    {
     "name": "stdout",
     "output_type": "stream",
     "text": [
      "done\n"
     ]
    }
   ],
   "source": [
    "for i in range(1,5):\n",
    "    for j in range(1,5):\n",
    "        for k in range(1,5):\n",
    "            for l in range(1,5):\n",
    "                if sp.simplify(Weyl(i, j, k, l)) != 0:\n",
    "                    print('Not zero!')\n",
    "print('done')"
   ]
  }
 ],
 "metadata": {
  "kernelspec": {
   "display_name": "Python 3 (ipykernel)",
   "language": "python",
   "name": "python3"
  },
  "language_info": {
   "codemirror_mode": {
    "name": "ipython",
    "version": 3
   },
   "file_extension": ".py",
   "mimetype": "text/x-python",
   "name": "python",
   "nbconvert_exporter": "python",
   "pygments_lexer": "ipython3",
   "version": "3.9.13"
  }
 },
 "nbformat": 4,
 "nbformat_minor": 4
}
